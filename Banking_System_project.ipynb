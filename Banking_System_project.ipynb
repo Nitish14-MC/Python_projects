{
 "cells": [
  {
   "cell_type": "code",
   "execution_count": 2,
   "id": "141cd611",
   "metadata": {},
   "outputs": [],
   "source": [
    "# Parent class: \n",
    "class User():\n",
    "    def __init__(self,name,age,gender): # Self: means reffering to the object itself\n",
    "        self.name = name\n",
    "        self.age = age\n",
    "        self.gender = gender\n",
    "        \n",
    "        \n",
    "    def show_user_details(self):\n",
    "        print(\"Personal details\")\n",
    "        print()\n",
    "        print(\"Name:\",self.name)\n",
    "        print(\"Age:\",self.age)\n",
    "        print(\"Gender:\",self.gender)\n",
    "        \n",
    "\n",
    "# Child class\n",
    "\n",
    "# Child class\n",
    "\n",
    "class Bank(User): # Here we are inheriting all the classes from \"User\" class\n",
    "    def __init__(self,name,age,gender):\n",
    "        super().__init__(name,age,gender)\n",
    "        # This super function avoids us having write the following lines of code again\n",
    "        '''\n",
    "        self.name = name\n",
    "        self.age = age\n",
    "        self.gender = gender\n",
    "        '''\n",
    "        self.balance = 0  # Balance at the begining while openinig account would be Zero\n",
    "        \n",
    "    def deposit(self,amount):\n",
    "        self.amount = amount\n",
    "        self.balance = self.balance +  self.amount \n",
    "        # Here we are adding our deposit amount to the earlier balance\n",
    "        print(\"Your account balance is updated: $\", self.balance)\n",
    "        \n",
    "    \n",
    "    def withdraw(self,amount_withdraw):\n",
    "        self.amount_withdraw = amount_withdraw\n",
    "        if self.amount_withdraw > self.balance:\n",
    "            print(\"Insufficient Balance: Balance available: $\", self.balance)\n",
    "        else:\n",
    "            self.balance = self.balance - self.amount_withdraw\n",
    "            print(\"Account balance has been updated: $\", self.balance)\n",
    "            \n",
    "    def view_balance(self):\n",
    "        self.show_user_details()\n",
    "        print(\"Your account balance is : $\", self.balance)\n",
    "        "
   ]
  },
  {
   "cell_type": "code",
   "execution_count": 3,
   "id": "8228cb66",
   "metadata": {},
   "outputs": [],
   "source": [
    "obj1 = Bank('Nitish',24,'Male')"
   ]
  },
  {
   "cell_type": "code",
   "execution_count": 4,
   "id": "30357c88",
   "metadata": {},
   "outputs": [
    {
     "name": "stdout",
     "output_type": "stream",
     "text": [
      "Your account balance is updated: $ 20000\n"
     ]
    }
   ],
   "source": [
    "obj1.deposit(20000)"
   ]
  },
  {
   "cell_type": "code",
   "execution_count": 5,
   "id": "8a06776f",
   "metadata": {},
   "outputs": [
    {
     "name": "stdout",
     "output_type": "stream",
     "text": [
      "Account balance has been updated: $ 19750\n"
     ]
    }
   ],
   "source": [
    "obj1.withdraw(250)"
   ]
  },
  {
   "cell_type": "code",
   "execution_count": 6,
   "id": "d02ba650",
   "metadata": {},
   "outputs": [
    {
     "name": "stdout",
     "output_type": "stream",
     "text": [
      "Personal details\n",
      "\n",
      "Name: Nitish\n",
      "Age: 24\n",
      "Gender: Male\n",
      "Your account balance is : $ 19750\n"
     ]
    }
   ],
   "source": [
    "obj1.view_balance()"
   ]
  },
  {
   "cell_type": "code",
   "execution_count": null,
   "id": "10fbf835",
   "metadata": {},
   "outputs": [],
   "source": []
  }
 ],
 "metadata": {
  "kernelspec": {
   "display_name": "Python 3 (ipykernel)",
   "language": "python",
   "name": "python3"
  },
  "language_info": {
   "codemirror_mode": {
    "name": "ipython",
    "version": 3
   },
   "file_extension": ".py",
   "mimetype": "text/x-python",
   "name": "python",
   "nbconvert_exporter": "python",
   "pygments_lexer": "ipython3",
   "version": "3.9.12"
  }
 },
 "nbformat": 4,
 "nbformat_minor": 5
}
